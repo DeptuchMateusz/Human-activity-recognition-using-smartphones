{
 "cells": [
  {
   "cell_type": "markdown",
   "metadata": {},
   "source": [
    "jak sie nazywa 3. etap?\n",
    "trzba by było zmienić nazwę pliku i folderu"
   ]
  },
  {
   "cell_type": "markdown",
   "metadata": {},
   "source": []
  }
 ],
 "metadata": {
  "language_info": {
   "name": "python"
  }
 },
 "nbformat": 4,
 "nbformat_minor": 2
}
