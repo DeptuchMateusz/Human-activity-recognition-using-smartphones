{
 "cells": [
  {
   "cell_type": "code",
   "execution_count": 1,
   "id": "initial_id",
   "metadata": {
    "collapsed": true,
    "ExecuteTime": {
     "end_time": "2024-05-19T21:03:47.356841Z",
     "start_time": "2024-05-19T21:03:47.249720Z"
    }
   },
   "outputs": [
    {
     "data": {
      "text/plain": "      tBodyAcc-mean()-X  tBodyAcc-mean()-Y  tBodyAcc-mean()-Z  \\\n0              0.202351          -0.021717          -0.111851   \n1              0.282814          -0.016686          -0.110004   \n2              0.272529          -0.020954          -0.114472   \n3              0.276408          -0.024315          -0.101067   \n4              0.306400          -0.013045          -0.064768   \n...                 ...                ...                ...   \n2055           0.275866          -0.015977          -0.107413   \n2056           0.276938          -0.010382          -0.104780   \n2057           0.275988          -0.010583          -0.107595   \n2058           0.293323          -0.008314          -0.086588   \n2059          -0.503823          -0.594207           0.264804   \n\n      tBodyAcc-std()-X  tBodyAcc-std()-Y  tBodyAcc-std()-Z  tBodyAcc-mad()-X  \\\n0            -0.332095         -0.114114         -0.309439         -0.382582   \n1            -0.994285         -0.973997         -0.988410         -0.994069   \n2            -0.996784         -0.975906         -0.986597         -0.997029   \n3            -0.995663         -0.973317         -0.976591         -0.996090   \n4            -0.180371         -0.099780         -0.002085         -0.204581   \n...                ...               ...               ...               ...   \n2055         -0.995906         -0.988648         -0.980432         -0.996124   \n2056         -0.995117         -0.979121         -0.968608         -0.995620   \n2057         -0.995333         -0.990080         -0.976474         -0.996158   \n2058         -0.985731         -0.943522         -0.934046         -0.986895   \n2059         -0.703402          0.672487         -0.464985         -0.704548   \n\n      tBodyAcc-mad()-Y  tBodyAcc-mad()-Z  tBodyAcc-max()-X  ...  \\\n0            -0.161981         -0.308824          0.046627  ...   \n1            -0.978087         -0.989570         -0.938192  ...   \n2            -0.973735         -0.985556         -0.941263  ...   \n3            -0.970965         -0.973102         -0.940314  ...   \n4            -0.082737          0.031456         -0.095405  ...   \n...                ...               ...               ...  ...   \n2055         -0.989691         -0.981682         -0.937521  ...   \n2056         -0.978551         -0.966391         -0.941381  ...   \n2057         -0.989422         -0.975154         -0.939539  ...   \n2058         -0.943477         -0.928269         -0.925988  ...   \n2059          0.967664         -0.401827         -0.948813  ...   \n\n      fBodyBodyGyroJerkMag-meanFreq()  fBodyBodyGyroJerkMag-skewness()  \\\n0                            0.068494                         0.005777   \n1                           -0.076563                         0.037980   \n2                            0.283428                        -0.629599   \n3                            0.521509                        -0.788724   \n4                            0.426281                        -0.009035   \n...                               ...                              ...   \n2055                         0.180432                        -0.273757   \n2056                         0.450588                        -0.780039   \n2057                         0.318705                        -0.012794   \n2058                         0.073816                         0.145530   \n2059                         0.156408                        -0.412991   \n\n      fBodyBodyGyroJerkMag-kurtosis()  angle(tBodyAccMean,gravity)  \\\n0                           -0.313236                     0.831735   \n1                           -0.366579                     0.072845   \n2                           -0.853248                     0.144626   \n3                           -0.937673                    -0.093666   \n4                           -0.338551                    -0.090383   \n...                               ...                          ...   \n2055                        -0.641374                     0.313865   \n2056                        -0.944476                    -0.012645   \n2057                        -0.304988                     0.088628   \n2058                        -0.177694                     0.002601   \n2059                        -0.718527                     0.249525   \n\n      angle(tBodyAccJerkMean),gravityMean)  angle(tBodyGyroMean,gravityMean)  \\\n0                                 0.495929                         -0.021844   \n1                                -0.622912                         -0.090463   \n2                                -0.035564                         -0.181800   \n3                                 0.010872                         -0.407271   \n4                                -0.780317                         -0.845675   \n...                                    ...                               ...   \n2055                             -0.253926                         -0.378042   \n2056                             -0.029589                         -0.004208   \n2057                             -0.619847                         -0.049650   \n2058                              0.163316                         -0.051404   \n2059                              0.440171                         -0.007508   \n\n      angle(tBodyGyroJerkMean,gravityMean)  angle(X,gravityMean)  \\\n0                                -0.621611             -0.843964   \n1                                 0.313810              0.592963   \n2                                 0.087320             -0.685390   \n3                                -0.340803             -0.704093   \n4                                -0.048851             -0.751484   \n...                                    ...                   ...   \n2055                              0.213856             -0.997293   \n2056                             -0.227811             -0.847799   \n2057                              0.438233             -0.937698   \n2058                             -0.014562             -0.606721   \n2059                              0.343715              0.683948   \n\n      angle(Y,gravityMean)  angle(Z,gravityMean)  \n0                 0.187828             -0.044740  \n1                -0.576030             -0.428127  \n2                 0.299394             -0.065491  \n3                 0.297943              0.061830  \n4                 0.069695              0.196049  \n...                    ...                   ...  \n2055              0.094215              0.021262  \n2056              0.083619             -0.092706  \n2057              0.117340              0.059204  \n2058              0.325398              0.167502  \n2059             -0.505728             -0.495238  \n\n[2060 rows x 561 columns]",
      "text/html": "<div>\n<style scoped>\n    .dataframe tbody tr th:only-of-type {\n        vertical-align: middle;\n    }\n\n    .dataframe tbody tr th {\n        vertical-align: top;\n    }\n\n    .dataframe thead th {\n        text-align: right;\n    }\n</style>\n<table border=\"1\" class=\"dataframe\">\n  <thead>\n    <tr style=\"text-align: right;\">\n      <th></th>\n      <th>tBodyAcc-mean()-X</th>\n      <th>tBodyAcc-mean()-Y</th>\n      <th>tBodyAcc-mean()-Z</th>\n      <th>tBodyAcc-std()-X</th>\n      <th>tBodyAcc-std()-Y</th>\n      <th>tBodyAcc-std()-Z</th>\n      <th>tBodyAcc-mad()-X</th>\n      <th>tBodyAcc-mad()-Y</th>\n      <th>tBodyAcc-mad()-Z</th>\n      <th>tBodyAcc-max()-X</th>\n      <th>...</th>\n      <th>fBodyBodyGyroJerkMag-meanFreq()</th>\n      <th>fBodyBodyGyroJerkMag-skewness()</th>\n      <th>fBodyBodyGyroJerkMag-kurtosis()</th>\n      <th>angle(tBodyAccMean,gravity)</th>\n      <th>angle(tBodyAccJerkMean),gravityMean)</th>\n      <th>angle(tBodyGyroMean,gravityMean)</th>\n      <th>angle(tBodyGyroJerkMean,gravityMean)</th>\n      <th>angle(X,gravityMean)</th>\n      <th>angle(Y,gravityMean)</th>\n      <th>angle(Z,gravityMean)</th>\n    </tr>\n  </thead>\n  <tbody>\n    <tr>\n      <th>0</th>\n      <td>0.202351</td>\n      <td>-0.021717</td>\n      <td>-0.111851</td>\n      <td>-0.332095</td>\n      <td>-0.114114</td>\n      <td>-0.309439</td>\n      <td>-0.382582</td>\n      <td>-0.161981</td>\n      <td>-0.308824</td>\n      <td>0.046627</td>\n      <td>...</td>\n      <td>0.068494</td>\n      <td>0.005777</td>\n      <td>-0.313236</td>\n      <td>0.831735</td>\n      <td>0.495929</td>\n      <td>-0.021844</td>\n      <td>-0.621611</td>\n      <td>-0.843964</td>\n      <td>0.187828</td>\n      <td>-0.044740</td>\n    </tr>\n    <tr>\n      <th>1</th>\n      <td>0.282814</td>\n      <td>-0.016686</td>\n      <td>-0.110004</td>\n      <td>-0.994285</td>\n      <td>-0.973997</td>\n      <td>-0.988410</td>\n      <td>-0.994069</td>\n      <td>-0.978087</td>\n      <td>-0.989570</td>\n      <td>-0.938192</td>\n      <td>...</td>\n      <td>-0.076563</td>\n      <td>0.037980</td>\n      <td>-0.366579</td>\n      <td>0.072845</td>\n      <td>-0.622912</td>\n      <td>-0.090463</td>\n      <td>0.313810</td>\n      <td>0.592963</td>\n      <td>-0.576030</td>\n      <td>-0.428127</td>\n    </tr>\n    <tr>\n      <th>2</th>\n      <td>0.272529</td>\n      <td>-0.020954</td>\n      <td>-0.114472</td>\n      <td>-0.996784</td>\n      <td>-0.975906</td>\n      <td>-0.986597</td>\n      <td>-0.997029</td>\n      <td>-0.973735</td>\n      <td>-0.985556</td>\n      <td>-0.941263</td>\n      <td>...</td>\n      <td>0.283428</td>\n      <td>-0.629599</td>\n      <td>-0.853248</td>\n      <td>0.144626</td>\n      <td>-0.035564</td>\n      <td>-0.181800</td>\n      <td>0.087320</td>\n      <td>-0.685390</td>\n      <td>0.299394</td>\n      <td>-0.065491</td>\n    </tr>\n    <tr>\n      <th>3</th>\n      <td>0.276408</td>\n      <td>-0.024315</td>\n      <td>-0.101067</td>\n      <td>-0.995663</td>\n      <td>-0.973317</td>\n      <td>-0.976591</td>\n      <td>-0.996090</td>\n      <td>-0.970965</td>\n      <td>-0.973102</td>\n      <td>-0.940314</td>\n      <td>...</td>\n      <td>0.521509</td>\n      <td>-0.788724</td>\n      <td>-0.937673</td>\n      <td>-0.093666</td>\n      <td>0.010872</td>\n      <td>-0.407271</td>\n      <td>-0.340803</td>\n      <td>-0.704093</td>\n      <td>0.297943</td>\n      <td>0.061830</td>\n    </tr>\n    <tr>\n      <th>4</th>\n      <td>0.306400</td>\n      <td>-0.013045</td>\n      <td>-0.064768</td>\n      <td>-0.180371</td>\n      <td>-0.099780</td>\n      <td>-0.002085</td>\n      <td>-0.204581</td>\n      <td>-0.082737</td>\n      <td>0.031456</td>\n      <td>-0.095405</td>\n      <td>...</td>\n      <td>0.426281</td>\n      <td>-0.009035</td>\n      <td>-0.338551</td>\n      <td>-0.090383</td>\n      <td>-0.780317</td>\n      <td>-0.845675</td>\n      <td>-0.048851</td>\n      <td>-0.751484</td>\n      <td>0.069695</td>\n      <td>0.196049</td>\n    </tr>\n    <tr>\n      <th>...</th>\n      <td>...</td>\n      <td>...</td>\n      <td>...</td>\n      <td>...</td>\n      <td>...</td>\n      <td>...</td>\n      <td>...</td>\n      <td>...</td>\n      <td>...</td>\n      <td>...</td>\n      <td>...</td>\n      <td>...</td>\n      <td>...</td>\n      <td>...</td>\n      <td>...</td>\n      <td>...</td>\n      <td>...</td>\n      <td>...</td>\n      <td>...</td>\n      <td>...</td>\n      <td>...</td>\n    </tr>\n    <tr>\n      <th>2055</th>\n      <td>0.275866</td>\n      <td>-0.015977</td>\n      <td>-0.107413</td>\n      <td>-0.995906</td>\n      <td>-0.988648</td>\n      <td>-0.980432</td>\n      <td>-0.996124</td>\n      <td>-0.989691</td>\n      <td>-0.981682</td>\n      <td>-0.937521</td>\n      <td>...</td>\n      <td>0.180432</td>\n      <td>-0.273757</td>\n      <td>-0.641374</td>\n      <td>0.313865</td>\n      <td>-0.253926</td>\n      <td>-0.378042</td>\n      <td>0.213856</td>\n      <td>-0.997293</td>\n      <td>0.094215</td>\n      <td>0.021262</td>\n    </tr>\n    <tr>\n      <th>2056</th>\n      <td>0.276938</td>\n      <td>-0.010382</td>\n      <td>-0.104780</td>\n      <td>-0.995117</td>\n      <td>-0.979121</td>\n      <td>-0.968608</td>\n      <td>-0.995620</td>\n      <td>-0.978551</td>\n      <td>-0.966391</td>\n      <td>-0.941381</td>\n      <td>...</td>\n      <td>0.450588</td>\n      <td>-0.780039</td>\n      <td>-0.944476</td>\n      <td>-0.012645</td>\n      <td>-0.029589</td>\n      <td>-0.004208</td>\n      <td>-0.227811</td>\n      <td>-0.847799</td>\n      <td>0.083619</td>\n      <td>-0.092706</td>\n    </tr>\n    <tr>\n      <th>2057</th>\n      <td>0.275988</td>\n      <td>-0.010583</td>\n      <td>-0.107595</td>\n      <td>-0.995333</td>\n      <td>-0.990080</td>\n      <td>-0.976474</td>\n      <td>-0.996158</td>\n      <td>-0.989422</td>\n      <td>-0.975154</td>\n      <td>-0.939539</td>\n      <td>...</td>\n      <td>0.318705</td>\n      <td>-0.012794</td>\n      <td>-0.304988</td>\n      <td>0.088628</td>\n      <td>-0.619847</td>\n      <td>-0.049650</td>\n      <td>0.438233</td>\n      <td>-0.937698</td>\n      <td>0.117340</td>\n      <td>0.059204</td>\n    </tr>\n    <tr>\n      <th>2058</th>\n      <td>0.293323</td>\n      <td>-0.008314</td>\n      <td>-0.086588</td>\n      <td>-0.985731</td>\n      <td>-0.943522</td>\n      <td>-0.934046</td>\n      <td>-0.986895</td>\n      <td>-0.943477</td>\n      <td>-0.928269</td>\n      <td>-0.925988</td>\n      <td>...</td>\n      <td>0.073816</td>\n      <td>0.145530</td>\n      <td>-0.177694</td>\n      <td>0.002601</td>\n      <td>0.163316</td>\n      <td>-0.051404</td>\n      <td>-0.014562</td>\n      <td>-0.606721</td>\n      <td>0.325398</td>\n      <td>0.167502</td>\n    </tr>\n    <tr>\n      <th>2059</th>\n      <td>-0.503823</td>\n      <td>-0.594207</td>\n      <td>0.264804</td>\n      <td>-0.703402</td>\n      <td>0.672487</td>\n      <td>-0.464985</td>\n      <td>-0.704548</td>\n      <td>0.967664</td>\n      <td>-0.401827</td>\n      <td>-0.948813</td>\n      <td>...</td>\n      <td>0.156408</td>\n      <td>-0.412991</td>\n      <td>-0.718527</td>\n      <td>0.249525</td>\n      <td>0.440171</td>\n      <td>-0.007508</td>\n      <td>0.343715</td>\n      <td>0.683948</td>\n      <td>-0.505728</td>\n      <td>-0.495238</td>\n    </tr>\n  </tbody>\n</table>\n<p>2060 rows × 561 columns</p>\n</div>"
     },
     "execution_count": 1,
     "metadata": {},
     "output_type": "execute_result"
    }
   ],
   "source": [
    "import pandas as pd\n",
    "import numpy as np\n",
    "\n",
    "df=pd.read_csv(\"../../data/validator_data.csv\")\n",
    "df"
   ]
  },
  {
   "cell_type": "code",
   "execution_count": 9,
   "outputs": [
    {
     "data": {
      "text/plain": "tBodyAccJerk-energy()-Z          fBodyAccJerk-energy()-Z                 1.000000\nfBodyAccJerk-energy()-Y          tBodyAccJerk-energy()-Y                 1.000000\nfBodyAccJerk-energy()-X          tBodyAccJerk-energy()-X                 0.999999\nfBodyAcc-energy()-X              fBodyAcc-bandsEnergy()-1,24             0.999847\nfBodyGyro-bandsEnergy()-1,24     fBodyGyro-energy()-X                    0.999768\n                                                                           ...   \nfBodyBodyGyroJerkMag-kurtosis()  tBodyGyroJerk-mean()-Z                  0.000015\nfBodyBodyGyroMag-entropy()       fBodyAcc-skewness()-Z                   0.000013\ntBodyGyroMag-arCoeff()4          fBodyAccJerk-bandsEnergy()-17,24.1      0.000013\nfBodyBodyGyroJerkMag-sma()       fBodyGyro-maxInds-X                     0.000012\ntBodyAccJerk-std()-Z             angle(tBodyGyroJerkMean,gravityMean)    0.000006\nLength: 145557, dtype: float64"
     },
     "execution_count": 9,
     "metadata": {},
     "output_type": "execute_result"
    }
   ],
   "source": [
    "# take top 10 columns with high corr\n",
    "all_colums=df.columns\n",
    "corr_matrix=df.corr().abs()\n",
    "corr_matrix\n",
    "high_corr=corr_matrix.unstack().sort_values(ascending=False).drop_duplicates()\n",
    "\n",
    "high_corr=high_corr[high_corr<1]\n",
    "high_corr\n"
   ],
   "metadata": {
    "collapsed": false,
    "ExecuteTime": {
     "end_time": "2024-05-19T21:07:39.028131Z",
     "start_time": "2024-05-19T21:07:37.946194Z"
    }
   },
   "id": "fec0bcde653704f4"
  },
  {
   "cell_type": "code",
   "execution_count": 13,
   "outputs": [
    {
     "data": {
      "text/plain": "19479"
     },
     "execution_count": 13,
     "metadata": {},
     "output_type": "execute_result"
    }
   ],
   "source": [
    "# count how many columns are correlated >0.8\n",
    "high_corr[high_corr>0.8].count()"
   ],
   "metadata": {
    "collapsed": false,
    "ExecuteTime": {
     "end_time": "2024-05-19T21:09:09.285355Z",
     "start_time": "2024-05-19T21:09:09.280377Z"
    }
   },
   "id": "c2d4872f7b2f3506"
  }
 ],
 "metadata": {
  "kernelspec": {
   "display_name": "Python 3",
   "language": "python",
   "name": "python3"
  },
  "language_info": {
   "codemirror_mode": {
    "name": "ipython",
    "version": 2
   },
   "file_extension": ".py",
   "mimetype": "text/x-python",
   "name": "python",
   "nbconvert_exporter": "python",
   "pygments_lexer": "ipython2",
   "version": "2.7.6"
  }
 },
 "nbformat": 4,
 "nbformat_minor": 5
}
